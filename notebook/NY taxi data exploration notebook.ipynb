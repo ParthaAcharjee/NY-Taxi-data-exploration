{
 "cells": [
  {
   "cell_type": "markdown",
   "metadata": {},
   "source": [
    "# Ball movement in a 2D space\n",
    "In this project, we will set N balls in a 2D space, and calculate the new positions periodically. All collision will be considered a ellastic collision.\n",
    "\n",
    "First let us import all related python packages"
   ]
  },
  {
   "cell_type": "code",
   "execution_count": 7,
   "metadata": {
    "collapsed": false
   },
   "outputs": [
    {
     "name": "stdout",
     "output_type": "stream",
     "text": [
      "This is a Jupyter notebook.\n"
     ]
    }
   ],
   "source": [
    "import random as rnd\n",
    "import matplotlib.pyplot as plt\n",
    "import numpy as np\n",
    "\n",
    "print(\"This is a Jupyter notebook.\")"
   ]
  },
  {
   "cell_type": "markdown",
   "metadata": {},
   "source": [
    "## Define the ball class and other functions\n",
    "Now, we are going to set the ball class. \n",
    "### definition\n",
    "In the constractor definition, we defined five properties of a ball position(x,y), size(r), and velocities(vx,by). We defined a count variable to track the number of balls in the system.\n",
    "### functions\n",
    "show() function shows all properties of a single ball.<br>\n",
    "plot() function plots a single ball<br>\n",
    "updateposition() function update balls position and velocities after a collision with the boundaries."
   ]
  },
  {
   "cell_type": "code",
   "execution_count": 6,
   "metadata": {
    "collapsed": false
   },
   "outputs": [],
   "source": [
    "# Define the ball class with all its functions\n",
    "class ball:\n",
    "    'Ball class, store ball position and velocities'\n",
    "    count=0\n",
    "    \n",
    "    def __init__(self,**arg):\n",
    "        if 'x' in arg.keys():\n",
    "            self.x=arg['x'];\n",
    "        else:\n",
    "            self.x=rnd.randrange(0,100,1);\n",
    "        \n",
    "        if 'y' in arg.keys():    \n",
    "            self.y=arg['y'];\n",
    "        else:\n",
    "            self.y=rnd.randrange(0,100,1);\n",
    "\n",
    "        if 'r' in arg.keys():    \n",
    "            self.r=arg['r'];\n",
    "        else:\n",
    "            self.r=1;\n",
    "         \n",
    "        if 'vx' in arg.keys():        \n",
    "            self.vx=arg['vx'];\n",
    "        else:\n",
    "            self.vx=rnd.randrange(-10,10,1);\n",
    "        \n",
    "        if 'vy' in arg.keys():\n",
    "            self.vy=arg['vy'];\n",
    "        else:\n",
    "            self.vy=rnd.randrange(-10,10,1);\n",
    "        \n",
    "        ball.count+=1;\n",
    "     \n",
    "     \n",
    "    def show(self):\n",
    "        print (\"x,y,vx,vy: \",self.x,self.y,self.vx,self.vy)\n",
    "    \n",
    "    def plot(self):\n",
    "        plt.scatter(self.x,self.y)\n",
    "        plt.show()\n",
    "    def updatePosition(self,t,L):\n",
    "        xmin,xmax,ymin,ymax=L;\n",
    "        xnew=self.x+self.vx*t;\n",
    "        ynew=self.y+self.vy*t;\n",
    "\n",
    "        if xnew>xmax: xnew=2*xmax-xnew;self.vx=-self.vx;\n",
    "        if xnew<xmin: xnew=2*xmin-xnew;self.vx=-self.vx;\n",
    "        if ynew>ymax: ynew=2*ymax-ynew;self.vy=-self.vy;\n",
    "        if ynew<ymin: ynew=2*ymin-ynew;self.vy=-self.vy;\n",
    "\n",
    "        self.x=xnew;\n",
    "        self.y=ynew;\n",
    "        return\n",
    "########### End of classes #################### "
   ]
  },
  {
   "cell_type": "markdown",
   "metadata": {},
   "source": [
    "### supporting functions\n",
    "Now we defined two more supporting functions.<br>\n",
    "The checkCollision(a,b) function check if ball a and b collide or not. <br>\n",
    "The collisionUpdate(a,b) function update the velocities of balls a and b after a collision."
   ]
  },
  {
   "cell_type": "code",
   "execution_count": 9,
   "metadata": {
    "collapsed": true
   },
   "outputs": [],
   "source": [
    "def checkCollision(a,b):\n",
    "    return pow(pow(a.x-b.x,2)+pow(a.y-b.y,2),0.5)<(a.r+b.r)\n",
    "\n",
    "def collisionUpdate(a,b):\n",
    "    c=((a.vx-b.vx)*(a.x-b.x)+(a.vy-b.vy)*(a.y-b.y))/(pow(a.x-b.x,2)+pow(a.y-b.y,2));\n",
    "    a.vx=a.vx-c*(a.x-b.x);\n",
    "    a.vy=a.vy-c*(a.y-b.y);\n",
    "\n",
    "    b.vx=b.vx+c*(a.x-b.x);\n",
    "    b.vy=b.vy+c*(a.y-b.y);\n",
    "    return a,b;                      \n",
    "########### End of functions ####################"
   ]
  },
  {
   "cell_type": "markdown",
   "metadata": {},
   "source": [
    "## The main function"
   ]
  },
  {
   "cell_type": "code",
   "execution_count": 10,
   "metadata": {
    "collapsed": false
   },
   "outputs": [
    {
     "name": "stderr",
     "output_type": "stream",
     "text": [
      "C:\\Users\\Partha Acharjee\\AppData\\Local\\Enthought\\Canopy\\edm\\envs\\User\\lib\\site-packages\\ipykernel\\__main__.py:25: MatplotlibDeprecationWarning: pyplot.hold is deprecated.\n",
      "    Future behavior will be consistent with the long-time default:\n",
      "    plot commands add elements without first clearing the\n",
      "    Axes and/or Figure.\n",
      "C:\\Users\\Partha Acharjee\\AppData\\Local\\Enthought\\Canopy\\edm\\envs\\User\\lib\\site-packages\\matplotlib\\__init__.py:917: UserWarning: axes.hold is deprecated. Please remove it from your matplotlibrc and/or style files.\n",
      "  warnings.warn(self.msg_depr_set % key)\n",
      "C:\\Users\\Partha Acharjee\\AppData\\Local\\Enthought\\Canopy\\edm\\envs\\User\\lib\\site-packages\\matplotlib\\rcsetup.py:152: UserWarning: axes.hold is deprecated, will be removed in 3.0\n",
      "  warnings.warn(\"axes.hold is deprecated, will be removed in 3.0\")\n"
     ]
    }
   ],
   "source": [
    "N=50\n",
    "b=[ball() for k in range(0,N)]\n",
    "t=0.1\n",
    "boundary=(0,100,0,100)\n",
    "CYCLE=500;\n",
    "\n",
    "\n",
    "for cycle in range(0,CYCLE):\n",
    "    for m in range(0,N-1):\n",
    "        for n in range(m+1,N):\n",
    "            collision=checkCollision(b[m],b[n])\n",
    "            \n",
    "            if collision:\n",
    "                b[m],b[n]=collisionUpdate(b[m],b[n])\n",
    "                continue\n",
    "    \n",
    "    for k in range(0,N):\n",
    "        b[k].updatePosition(t,boundary);\n",
    "    \n",
    "    data=np.zeros((N,2))            \n",
    "    for k in range(0,N):\n",
    "        data[k,]=b[k].x,b[k].y\n",
    "    \n",
    "    #data=np.append(data,[[0,0],[0,100],[100,0],[100,100]],axis=0)\n",
    "    plt.hold(False)\n",
    " \n",
    "    plt.scatter(data[:,0],data[:,1])\n",
    "    plt.axis([-1,101,-1,101])\n",
    "    plt.pause(0.0000001)"
   ]
  },
  {
   "cell_type": "code",
   "execution_count": null,
   "metadata": {
    "collapsed": true
   },
   "outputs": [],
   "source": []
  }
 ],
 "metadata": {
  "kernelspec": {
   "display_name": "Python 3",
   "language": "python",
   "name": "python3"
  },
  "language_info": {
   "codemirror_mode": {
    "name": "ipython",
    "version": 3
   },
   "file_extension": ".py",
   "mimetype": "text/x-python",
   "name": "python",
   "nbconvert_exporter": "python",
   "pygments_lexer": "ipython3",
   "version": "3.5.2"
  }
 },
 "nbformat": 4,
 "nbformat_minor": 2
}
