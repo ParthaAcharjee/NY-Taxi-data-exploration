{
 "cells": [
  {
   "cell_type": "code",
   "execution_count": 1,
   "metadata": {
    "collapsed": false
   },
   "outputs": [
    {
     "name": "stdout",
     "output_type": "stream",
     "text": [
      "Hello world\n"
     ]
    }
   ],
   "source": [
    "import random as rnd\n",
    "import matplotlib.pyplot as plt\n",
    "import numpy as np\n",
    "\n",
    "print(\"This is a Jupyter notebook.\")"
   ]
  },
  {
   "cell_type": "code",
   "execution_count": null,
   "metadata": {
    "collapsed": true
   },
   "outputs": [],
   "source": []
  },
  {
   "cell_type": "code",
   "execution_count": 3,
   "metadata": {
    "collapsed": false
   },
   "outputs": [],
   "source": [
    "# Define the ball class with all its functions\n",
    "class ball:\n",
    "    'Ball class, store ball position and velocities'\n",
    "    count=0\n",
    "    \n",
    "    def __init__(self,**arg):\n",
    "        if 'x' in arg.keys():\n",
    "            self.x=arg['x'];\n",
    "        else:\n",
    "            self.x=rnd.randrange(0,100,1);\n",
    "        \n",
    "        if 'y' in arg.keys():    \n",
    "            self.y=arg['y'];\n",
    "        else:\n",
    "            self.y=rnd.randrange(0,100,1);\n",
    "\n",
    "        if 'r' in arg.keys():    \n",
    "            self.r=arg['r'];\n",
    "        else:\n",
    "            self.r=1;\n",
    "         \n",
    "        if 'vx' in arg.keys():        \n",
    "            self.vx=arg['vx'];\n",
    "        else:\n",
    "            self.vx=rnd.randrange(-10,10,1);\n",
    "        \n",
    "        if 'vy' in arg.keys():\n",
    "            self.vy=arg['vy'];\n",
    "        else:\n",
    "            self.vy=rnd.randrange(-10,10,1);\n",
    "        \n",
    "        ball.count+=1;\n",
    "     \n",
    "     \n",
    "    def show(self):\n",
    "        print (\"x,y,vx,vy: \",self.x,self.y,self.vx,self.vy)\n",
    "    \n",
    "    def plot(self):\n",
    "        plt.scatter(self.x,self.y)\n",
    "        plt.show()\n",
    "    def updatePosition(self,t,L):\n",
    "        xmin,xmax,ymin,ymax=L;\n",
    "        xnew=self.x+self.vx*t;\n",
    "        ynew=self.y+self.vy*t;\n",
    "\n",
    "        if xnew>xmax: xnew=2*xmax-xnew;self.vx=-self.vx;\n",
    "        if xnew<xmin: xnew=2*xmin-xnew;self.vx=-self.vx;\n",
    "        if ynew>ymax: ynew=2*ymax-ynew;self.vy=-self.vy;\n",
    "        if ynew<ymin: ynew=2*ymin-ynew;self.vy=-self.vy;\n",
    "\n",
    "        self.x=xnew;\n",
    "        self.y=ynew;\n",
    "        return\n",
    "########### End of classes #################### "
   ]
  },
  {
   "cell_type": "code",
   "execution_count": null,
   "metadata": {
    "collapsed": true
   },
   "outputs": [],
   "source": []
  }
 ],
 "metadata": {
  "kernelspec": {
   "display_name": "Python 3",
   "language": "python",
   "name": "python3"
  },
  "language_info": {
   "codemirror_mode": {
    "name": "ipython",
    "version": 3
   },
   "file_extension": ".py",
   "mimetype": "text/x-python",
   "name": "python",
   "nbconvert_exporter": "python",
   "pygments_lexer": "ipython3",
   "version": "3.5.2"
  }
 },
 "nbformat": 4,
 "nbformat_minor": 2
}
